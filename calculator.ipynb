{
  "nbformat": 4,
  "nbformat_minor": 0,
  "metadata": {
    "colab": {
      "name": "Untitled0.ipynb",
      "provenance": [],
      "authorship_tag": "ABX9TyM42piJ7XwMsLOPDw42aWgA",
      "include_colab_link": true
    },
    "kernelspec": {
      "name": "python3",
      "display_name": "Python 3"
    },
    "accelerator": "TPU"
  },
  "cells": [
    {
      "cell_type": "markdown",
      "metadata": {
        "id": "view-in-github",
        "colab_type": "text"
      },
      "source": [
        "<a href=\"https://colab.research.google.com/github/yuhan-1987/Exercise/blob/master/calculator.ipynb\" target=\"_parent\"><img src=\"https://colab.research.google.com/assets/colab-badge.svg\" alt=\"Open In Colab\"/></a>"
      ]
    },
    {
      "cell_type": "code",
      "metadata": {
        "id": "p2sk06cSzvo6",
        "colab_type": "code",
        "colab": {},
        "cellView": "both"
      },
      "source": [
        "#@caculator\n",
        "import sys\n",
        "\n",
        "def (main):\n",
        "  if len(sys.argv)!=2:\n",
        "    print(\"Parameter Error\")\n",
        "    exit()\n",
        "  try:\n",
        "    income = int(sys.argv[1])\n",
        "  except ValueError:\n",
        "    print(\"Parameter Error\")\n",
        "    exit()\n",
        "\n",
        "  #扣除起征点\n",
        "  value = income - 5000\n",
        "  # 分不同区间，根据相应的税率计算税费\n",
        "  if value <= 0:\n",
        "    result = 0\n",
        "  elif value <= 3000:\n",
        "    result = value * 0.03 - 0 \n",
        "  elif value <= 12000:\n",
        "    result = value * 0.1 - 210\n",
        "  elif value <= 25000:\n",
        "    result = value * 0.2 - 1410\n",
        "  elif value <= 35000:\n",
        "    result = value * 0.25 - 2660\n",
        "  elif value <= 55000:\n",
        "    result = value * 0.3 - 4410\n",
        "  elif value <= 80000:\n",
        "    result = value * 0.35 - 7160 \n",
        "  else: \n",
        "    result = income * 0.45 - 15160\n",
        "\n",
        "  #print results\n",
        "  print('{:.2f}'.format(result))\n",
        "\n",
        "if _name_ == '__main__':\n",
        "  main()"
      ],
      "execution_count": 0,
      "outputs": []
    }
  ]
}